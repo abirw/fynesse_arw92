{
 "cells": [
  {
   "cell_type": "markdown",
   "id": "98bf38a3",
   "metadata": {},
   "source": [
    "# Python Fynesse Data Analysis Template\n",
    "\n",
    "### 31st May 2021\n",
    "\n",
    "### Neil D. Lawrence\n",
    "\n",
    "### Updated 31st October 2021\n",
    "\n",
    "This notebook serves as a stub for the fynesse data analysis pipeline.\n"
   ]
  },
  {
   "cell_type": "code",
   "execution_count": 5,
   "id": "3d81c9b5",
   "metadata": {},
   "outputs": [
    {
     "output_type": "stream",
     "name": "stdout",
     "text": [
      "Found existing installation: fynesse 0.1.0\n",
      "Uninstalling fynesse-0.1.0:\n",
      "  Successfully uninstalled fynesse-0.1.0\n",
      "Note: you may need to restart the kernel to use updated packages.\n",
      "Collecting git+https://github.com/abirw/fynesse_arw92.git\n",
      "  Cloning https://github.com/abirw/fynesse_arw92.git to /private/var/folders/sj/m_z67ff90gb7bklfnvhl9dl80000gn/T/pip-req-build-ovquzye6\n",
      "  Running command git clone --filter=blob:none -q https://github.com/abirw/fynesse_arw92.git /private/var/folders/sj/m_z67ff90gb7bklfnvhl9dl80000gn/T/pip-req-build-ovquzye6\n",
      "  Resolved https://github.com/abirw/fynesse_arw92.git to commit 41bcd1044fb0edbba92a609e83d40b04b086e51d\n",
      "  Preparing metadata (setup.py) ... \u001b[?25ldone\n",
      "\u001b[?25hRequirement already satisfied: pandas in /Library/Frameworks/Python.framework/Versions/3.9/lib/python3.9/site-packages (from fynesse==0.1.0) (1.3.4)\n",
      "Requirement already satisfied: numpy in /Library/Frameworks/Python.framework/Versions/3.9/lib/python3.9/site-packages (from fynesse==0.1.0) (1.21.4)\n",
      "Requirement already satisfied: jupyter in /Library/Frameworks/Python.framework/Versions/3.9/lib/python3.9/site-packages (from fynesse==0.1.0) (1.0.0)\n",
      "Requirement already satisfied: matplotlib in /Library/Frameworks/Python.framework/Versions/3.9/lib/python3.9/site-packages (from fynesse==0.1.0) (3.5.0)\n",
      "Requirement already satisfied: qtconsole in /Library/Frameworks/Python.framework/Versions/3.9/lib/python3.9/site-packages (from jupyter->fynesse==0.1.0) (5.2.0)\n",
      "Requirement already satisfied: jupyter-console in /Library/Frameworks/Python.framework/Versions/3.9/lib/python3.9/site-packages (from jupyter->fynesse==0.1.0) (6.4.0)\n",
      "Requirement already satisfied: notebook in /Library/Frameworks/Python.framework/Versions/3.9/lib/python3.9/site-packages (from jupyter->fynesse==0.1.0) (6.4.6)\n",
      "Requirement already satisfied: ipywidgets in /Library/Frameworks/Python.framework/Versions/3.9/lib/python3.9/site-packages (from jupyter->fynesse==0.1.0) (7.6.5)\n",
      "Requirement already satisfied: ipykernel in /Users/abigailwilkinson/Library/Python/3.9/lib/python/site-packages (from jupyter->fynesse==0.1.0) (6.5.1)\n",
      "Requirement already satisfied: nbconvert in /Library/Frameworks/Python.framework/Versions/3.9/lib/python3.9/site-packages (from jupyter->fynesse==0.1.0) (6.3.0)\n",
      "Requirement already satisfied: pyparsing>=2.2.1 in /Library/Frameworks/Python.framework/Versions/3.9/lib/python3.9/site-packages (from matplotlib->fynesse==0.1.0) (3.0.6)\n",
      "Requirement already satisfied: python-dateutil>=2.7 in /Users/abigailwilkinson/Library/Python/3.9/lib/python/site-packages (from matplotlib->fynesse==0.1.0) (2.8.2)\n",
      "Requirement already satisfied: packaging>=20.0 in /Library/Frameworks/Python.framework/Versions/3.9/lib/python3.9/site-packages (from matplotlib->fynesse==0.1.0) (21.3)\n",
      "Requirement already satisfied: kiwisolver>=1.0.1 in /Library/Frameworks/Python.framework/Versions/3.9/lib/python3.9/site-packages (from matplotlib->fynesse==0.1.0) (1.3.2)\n",
      "Requirement already satisfied: cycler>=0.10 in /Library/Frameworks/Python.framework/Versions/3.9/lib/python3.9/site-packages (from matplotlib->fynesse==0.1.0) (0.11.0)\n",
      "Requirement already satisfied: pillow>=6.2.0 in /Library/Frameworks/Python.framework/Versions/3.9/lib/python3.9/site-packages (from matplotlib->fynesse==0.1.0) (8.4.0)\n",
      "Requirement already satisfied: fonttools>=4.22.0 in /Library/Frameworks/Python.framework/Versions/3.9/lib/python3.9/site-packages (from matplotlib->fynesse==0.1.0) (4.28.2)\n",
      "Requirement already satisfied: setuptools-scm>=4 in /Library/Frameworks/Python.framework/Versions/3.9/lib/python3.9/site-packages (from matplotlib->fynesse==0.1.0) (6.3.2)\n",
      "Requirement already satisfied: pytz>=2017.3 in /Library/Frameworks/Python.framework/Versions/3.9/lib/python3.9/site-packages (from pandas->fynesse==0.1.0) (2021.3)\n",
      "Requirement already satisfied: six>=1.5 in /Users/abigailwilkinson/Library/Python/3.9/lib/python/site-packages (from python-dateutil>=2.7->matplotlib->fynesse==0.1.0) (1.16.0)\n",
      "Requirement already satisfied: tomli>=1.0.0 in /Library/Frameworks/Python.framework/Versions/3.9/lib/python3.9/site-packages (from setuptools-scm>=4->matplotlib->fynesse==0.1.0) (1.2.2)\n",
      "Requirement already satisfied: setuptools in /Library/Frameworks/Python.framework/Versions/3.9/lib/python3.9/site-packages (from setuptools-scm>=4->matplotlib->fynesse==0.1.0) (49.2.1)\n",
      "Requirement already satisfied: matplotlib-inline<0.2.0,>=0.1.0 in /Users/abigailwilkinson/Library/Python/3.9/lib/python/site-packages (from ipykernel->jupyter->fynesse==0.1.0) (0.1.3)\n",
      "Requirement already satisfied: debugpy<2.0,>=1.0.0 in /Users/abigailwilkinson/Library/Python/3.9/lib/python/site-packages (from ipykernel->jupyter->fynesse==0.1.0) (1.5.1)\n",
      "Requirement already satisfied: traitlets<6.0,>=5.1.0 in /Users/abigailwilkinson/Library/Python/3.9/lib/python/site-packages (from ipykernel->jupyter->fynesse==0.1.0) (5.1.1)\n",
      "Requirement already satisfied: appnope in /Users/abigailwilkinson/Library/Python/3.9/lib/python/site-packages (from ipykernel->jupyter->fynesse==0.1.0) (0.1.2)\n",
      "Requirement already satisfied: ipython>=7.23.1 in /Users/abigailwilkinson/Library/Python/3.9/lib/python/site-packages (from ipykernel->jupyter->fynesse==0.1.0) (7.29.0)\n",
      "Requirement already satisfied: jupyter-client<8.0 in /Users/abigailwilkinson/Library/Python/3.9/lib/python/site-packages (from ipykernel->jupyter->fynesse==0.1.0) (7.1.0)\n",
      "Requirement already satisfied: tornado<7.0,>=4.2 in /Users/abigailwilkinson/Library/Python/3.9/lib/python/site-packages (from ipykernel->jupyter->fynesse==0.1.0) (6.1)\n",
      "Requirement already satisfied: widgetsnbextension~=3.5.0 in /Library/Frameworks/Python.framework/Versions/3.9/lib/python3.9/site-packages (from ipywidgets->jupyter->fynesse==0.1.0) (3.5.2)\n",
      "Requirement already satisfied: ipython-genutils~=0.2.0 in /Library/Frameworks/Python.framework/Versions/3.9/lib/python3.9/site-packages (from ipywidgets->jupyter->fynesse==0.1.0) (0.2.0)\n",
      "Requirement already satisfied: nbformat>=4.2.0 in /Library/Frameworks/Python.framework/Versions/3.9/lib/python3.9/site-packages (from ipywidgets->jupyter->fynesse==0.1.0) (5.1.3)\n",
      "Requirement already satisfied: jupyterlab-widgets>=1.0.0 in /Library/Frameworks/Python.framework/Versions/3.9/lib/python3.9/site-packages (from ipywidgets->jupyter->fynesse==0.1.0) (1.0.2)\n",
      "Requirement already satisfied: prompt-toolkit!=3.0.0,!=3.0.1,<3.1.0,>=2.0.0 in /Users/abigailwilkinson/Library/Python/3.9/lib/python/site-packages (from jupyter-console->jupyter->fynesse==0.1.0) (3.0.22)\n",
      "Requirement already satisfied: pygments in /Users/abigailwilkinson/Library/Python/3.9/lib/python/site-packages (from jupyter-console->jupyter->fynesse==0.1.0) (2.10.0)\n",
      "Requirement already satisfied: entrypoints>=0.2.2 in /Users/abigailwilkinson/Library/Python/3.9/lib/python/site-packages (from nbconvert->jupyter->fynesse==0.1.0) (0.3)\n",
      "Requirement already satisfied: nbclient<0.6.0,>=0.5.0 in /Library/Frameworks/Python.framework/Versions/3.9/lib/python3.9/site-packages (from nbconvert->jupyter->fynesse==0.1.0) (0.5.9)\n",
      "Requirement already satisfied: bleach in /Library/Frameworks/Python.framework/Versions/3.9/lib/python3.9/site-packages (from nbconvert->jupyter->fynesse==0.1.0) (4.1.0)\n",
      "Requirement already satisfied: jinja2>=2.4 in /Library/Frameworks/Python.framework/Versions/3.9/lib/python3.9/site-packages (from nbconvert->jupyter->fynesse==0.1.0) (3.0.3)\n",
      "Requirement already satisfied: jupyterlab-pygments in /Library/Frameworks/Python.framework/Versions/3.9/lib/python3.9/site-packages (from nbconvert->jupyter->fynesse==0.1.0) (0.1.2)\n",
      "Requirement already satisfied: jupyter-core in /Users/abigailwilkinson/Library/Python/3.9/lib/python/site-packages (from nbconvert->jupyter->fynesse==0.1.0) (4.9.1)\n",
      "Requirement already satisfied: mistune<2,>=0.8.1 in /Library/Frameworks/Python.framework/Versions/3.9/lib/python3.9/site-packages (from nbconvert->jupyter->fynesse==0.1.0) (0.8.4)\n",
      "Requirement already satisfied: pandocfilters>=1.4.1 in /Library/Frameworks/Python.framework/Versions/3.9/lib/python3.9/site-packages (from nbconvert->jupyter->fynesse==0.1.0) (1.5.0)\n",
      "Requirement already satisfied: defusedxml in /Library/Frameworks/Python.framework/Versions/3.9/lib/python3.9/site-packages (from nbconvert->jupyter->fynesse==0.1.0) (0.7.1)\n",
      "Requirement already satisfied: testpath in /Library/Frameworks/Python.framework/Versions/3.9/lib/python3.9/site-packages (from nbconvert->jupyter->fynesse==0.1.0) (0.5.0)\n",
      "Requirement already satisfied: terminado>=0.8.3 in /Library/Frameworks/Python.framework/Versions/3.9/lib/python3.9/site-packages (from notebook->jupyter->fynesse==0.1.0) (0.12.1)\n",
      "Requirement already satisfied: nest-asyncio>=1.5 in /Users/abigailwilkinson/Library/Python/3.9/lib/python/site-packages (from notebook->jupyter->fynesse==0.1.0) (1.5.1)\n",
      "Requirement already satisfied: Send2Trash>=1.8.0 in /Library/Frameworks/Python.framework/Versions/3.9/lib/python3.9/site-packages (from notebook->jupyter->fynesse==0.1.0) (1.8.0)\n",
      "Requirement already satisfied: pyzmq>=17 in /Users/abigailwilkinson/Library/Python/3.9/lib/python/site-packages (from notebook->jupyter->fynesse==0.1.0) (22.3.0)\n",
      "Requirement already satisfied: argon2-cffi in /Library/Frameworks/Python.framework/Versions/3.9/lib/python3.9/site-packages (from notebook->jupyter->fynesse==0.1.0) (21.1.0)\n",
      "Requirement already satisfied: prometheus-client in /Library/Frameworks/Python.framework/Versions/3.9/lib/python3.9/site-packages (from notebook->jupyter->fynesse==0.1.0) (0.12.0)\n",
      "Requirement already satisfied: qtpy in /Library/Frameworks/Python.framework/Versions/3.9/lib/python3.9/site-packages (from qtconsole->jupyter->fynesse==0.1.0) (1.11.2)\n",
      "Requirement already satisfied: pickleshare in /Users/abigailwilkinson/Library/Python/3.9/lib/python/site-packages (from ipython>=7.23.1->ipykernel->jupyter->fynesse==0.1.0) (0.7.5)\n",
      "Requirement already satisfied: decorator in /Users/abigailwilkinson/Library/Python/3.9/lib/python/site-packages (from ipython>=7.23.1->ipykernel->jupyter->fynesse==0.1.0) (5.1.0)\n",
      "Requirement already satisfied: backcall in /Users/abigailwilkinson/Library/Python/3.9/lib/python/site-packages (from ipython>=7.23.1->ipykernel->jupyter->fynesse==0.1.0) (0.2.0)\n",
      "Requirement already satisfied: jedi>=0.16 in /Users/abigailwilkinson/Library/Python/3.9/lib/python/site-packages (from ipython>=7.23.1->ipykernel->jupyter->fynesse==0.1.0) (0.18.1)\n",
      "Requirement already satisfied: pexpect>4.3 in /Users/abigailwilkinson/Library/Python/3.9/lib/python/site-packages (from ipython>=7.23.1->ipykernel->jupyter->fynesse==0.1.0) (4.8.0)\n",
      "Requirement already satisfied: MarkupSafe>=2.0 in /Library/Frameworks/Python.framework/Versions/3.9/lib/python3.9/site-packages (from jinja2>=2.4->nbconvert->jupyter->fynesse==0.1.0) (2.0.1)\n",
      "Requirement already satisfied: jsonschema!=2.5.0,>=2.4 in /Library/Frameworks/Python.framework/Versions/3.9/lib/python3.9/site-packages (from nbformat>=4.2.0->ipywidgets->jupyter->fynesse==0.1.0) (4.2.1)\n",
      "Requirement already satisfied: wcwidth in /Users/abigailwilkinson/Library/Python/3.9/lib/python/site-packages (from prompt-toolkit!=3.0.0,!=3.0.1,<3.1.0,>=2.0.0->jupyter-console->jupyter->fynesse==0.1.0) (0.2.5)\n",
      "Requirement already satisfied: ptyprocess in /Users/abigailwilkinson/Library/Python/3.9/lib/python/site-packages (from terminado>=0.8.3->notebook->jupyter->fynesse==0.1.0) (0.7.0)\n",
      "Requirement already satisfied: cffi>=1.0.0 in /Library/Frameworks/Python.framework/Versions/3.9/lib/python3.9/site-packages (from argon2-cffi->notebook->jupyter->fynesse==0.1.0) (1.15.0)\n",
      "Requirement already satisfied: webencodings in /Library/Frameworks/Python.framework/Versions/3.9/lib/python3.9/site-packages (from bleach->nbconvert->jupyter->fynesse==0.1.0) (0.5.1)\n",
      "Requirement already satisfied: pycparser in /Library/Frameworks/Python.framework/Versions/3.9/lib/python3.9/site-packages (from cffi>=1.0.0->argon2-cffi->notebook->jupyter->fynesse==0.1.0) (2.21)\n",
      "Requirement already satisfied: parso<0.9.0,>=0.8.0 in /Users/abigailwilkinson/Library/Python/3.9/lib/python/site-packages (from jedi>=0.16->ipython>=7.23.1->ipykernel->jupyter->fynesse==0.1.0) (0.8.2)\n",
      "Requirement already satisfied: attrs>=17.4.0 in /Library/Frameworks/Python.framework/Versions/3.9/lib/python3.9/site-packages (from jsonschema!=2.5.0,>=2.4->nbformat>=4.2.0->ipywidgets->jupyter->fynesse==0.1.0) (21.2.0)\n",
      "Requirement already satisfied: pyrsistent!=0.17.0,!=0.17.1,!=0.17.2,>=0.14.0 in /Library/Frameworks/Python.framework/Versions/3.9/lib/python3.9/site-packages (from jsonschema!=2.5.0,>=2.4->nbformat>=4.2.0->ipywidgets->jupyter->fynesse==0.1.0) (0.18.0)\n",
      "Using legacy 'setup.py install' for fynesse, since package 'wheel' is not installed.\n",
      "Installing collected packages: fynesse\n",
      "    Running setup.py install for fynesse ... \u001b[?25ldone\n",
      "\u001b[?25hSuccessfully installed fynesse-0.1.0\n",
      "Note: you may need to restart the kernel to use updated packages.\n"
     ]
    }
   ],
   "source": [
    "%pip uninstall --yes fynesse\n",
    "# Replace this with the location of your fynesse implementation.\n",
    "%pip install git+https://github.com/abirw/fynesse_arw92.git\n"
   ]
  },
  {
   "cell_type": "code",
   "execution_count": 3,
   "metadata": {},
   "outputs": [
    {
     "output_type": "stream",
     "name": "stdout",
     "text": [
      "Collecting pyyaml\n",
      "  Downloading PyYAML-6.0-cp39-cp39-macosx_10_9_x86_64.whl (197 kB)\n",
      "     |████████████████████████████████| 197 kB 3.9 MB/s            \n",
      "\u001b[?25hInstalling collected packages: pyyaml\n",
      "Successfully installed pyyaml-6.0\n",
      "Note: you may need to restart the kernel to use updated packages.\n"
     ]
    }
   ],
   "source": [
    "%pip install pyyaml"
   ]
  },
  {
   "cell_type": "code",
   "execution_count": 6,
   "id": "3f2a9043",
   "metadata": {},
   "outputs": [
    {
     "output_type": "error",
     "ename": "ImportError",
     "evalue": "cannot import name 'process' from partially initialized module 'fynesse' (most likely due to a circular import) (/Library/Frameworks/Python.framework/Versions/3.9/lib/python3.9/site-packages/fynesse/__init__.py)",
     "traceback": [
      "\u001b[0;31m---------------------------------------------------------------------------\u001b[0m",
      "\u001b[0;31mImportError\u001b[0m                               Traceback (most recent call last)",
      "\u001b[0;32m/var/folders/sj/m_z67ff90gb7bklfnvhl9dl80000gn/T/ipykernel_9334/4126491453.py\u001b[0m in \u001b[0;36m<module>\u001b[0;34m\u001b[0m\n\u001b[0;32m----> 1\u001b[0;31m \u001b[0;32mimport\u001b[0m \u001b[0mfynesse\u001b[0m\u001b[0;34m\u001b[0m\u001b[0;34m\u001b[0m\u001b[0m\n\u001b[0m",
      "\u001b[0;32m/Library/Frameworks/Python.framework/Versions/3.9/lib/python3.9/site-packages/fynesse/__init__.py\u001b[0m in \u001b[0;36m<module>\u001b[0;34m\u001b[0m\n\u001b[1;32m      1\u001b[0m \u001b[0;32mfrom\u001b[0m \u001b[0;34m.\u001b[0m \u001b[0;32mimport\u001b[0m \u001b[0maccess\u001b[0m\u001b[0;34m\u001b[0m\u001b[0;34m\u001b[0m\u001b[0m\n\u001b[1;32m      2\u001b[0m \u001b[0;32mfrom\u001b[0m \u001b[0;34m.\u001b[0m \u001b[0;32mimport\u001b[0m \u001b[0massess\u001b[0m\u001b[0;34m\u001b[0m\u001b[0;34m\u001b[0m\u001b[0m\n\u001b[0;32m----> 3\u001b[0;31m \u001b[0;32mfrom\u001b[0m \u001b[0;34m.\u001b[0m \u001b[0;32mimport\u001b[0m \u001b[0mprocess\u001b[0m\u001b[0;34m\u001b[0m\u001b[0;34m\u001b[0m\u001b[0m\n\u001b[0m",
      "\u001b[0;31mImportError\u001b[0m: cannot import name 'process' from partially initialized module 'fynesse' (most likely due to a circular import) (/Library/Frameworks/Python.framework/Versions/3.9/lib/python3.9/site-packages/fynesse/__init__.py)"
     ]
    }
   ],
   "source": [
    "import fynesse"
   ]
  },
  {
   "cell_type": "code",
   "execution_count": 5,
   "id": "332048de",
   "metadata": {},
   "outputs": [
    {
     "output_type": "error",
     "ename": "NameError",
     "evalue": "name 'fynesse' is not defined",
     "traceback": [
      "\u001b[0;31m---------------------------------------------------------------------------\u001b[0m",
      "\u001b[0;31mNameError\u001b[0m                                 Traceback (most recent call last)",
      "\u001b[0;32m/var/folders/sj/m_z67ff90gb7bklfnvhl9dl80000gn/T/ipykernel_9317/2249265274.py\u001b[0m in \u001b[0;36m<module>\u001b[0;34m\u001b[0m\n\u001b[0;32m----> 1\u001b[0;31m \u001b[0mfynesse\u001b[0m\u001b[0;34m.\u001b[0m\u001b[0maccess\u001b[0m\u001b[0;34m.\u001b[0m\u001b[0mconfig\u001b[0m\u001b[0;34m[\u001b[0m\u001b[0;34m'data_url'\u001b[0m\u001b[0;34m]\u001b[0m\u001b[0;34m\u001b[0m\u001b[0;34m\u001b[0m\u001b[0m\n\u001b[0m",
      "\u001b[0;31mNameError\u001b[0m: name 'fynesse' is not defined"
     ]
    }
   ],
   "source": [
    "fynesse.access.config['data_url']"
   ]
  },
  {
   "cell_type": "code",
   "execution_count": null,
   "id": "d30ff51b",
   "metadata": {},
   "outputs": [],
   "source": []
  }
 ],
 "metadata": {
  "kernelspec": {
   "name": "python3",
   "display_name": "Python 3.9.0 64-bit"
  },
  "language_info": {
   "codemirror_mode": {
    "name": "ipython",
    "version": 3
   },
   "file_extension": ".py",
   "mimetype": "text/x-python",
   "name": "python",
   "nbconvert_exporter": "python",
   "pygments_lexer": "ipython3",
   "version": "3.9.0"
  },
  "interpreter": {
   "hash": "7812ea015bdcee6f23a998adcdd2ef97c151c0c241b7b7070987d9313e41299d"
  }
 },
 "nbformat": 4,
 "nbformat_minor": 5
}